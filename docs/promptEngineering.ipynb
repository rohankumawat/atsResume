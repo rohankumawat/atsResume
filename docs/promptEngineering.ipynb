{
 "cells": [
  {
   "cell_type": "code",
   "execution_count": 17,
   "metadata": {},
   "outputs": [
    {
     "name": "stdout",
     "output_type": "stream",
     "text": [
      "Collecting PyPDF2\n",
      "  Using cached pypdf2-3.0.1-py3-none-any.whl (232 kB)\n",
      "Installing collected packages: PyPDF2\n",
      "Successfully installed PyPDF2-3.0.1\n"
     ]
    }
   ],
   "source": [
    "!pip3 install PyPDF2"
   ]
  },
  {
   "cell_type": "code",
   "execution_count": 18,
   "metadata": {},
   "outputs": [],
   "source": [
    "import os\n",
    "from langchain.prompts import PromptTemplate\n",
    "from langchain_community.chat_models import ChatOpenAI\n",
    "from langchain_core.output_parsers import StrOutputParser\n",
    "import PyPDF2 as pdf\n",
    "\n",
    "from dotenv import load_dotenv\n",
    "load_dotenv()\n",
    "OPENAI_API_KEY = os.getenv(\"OPENAI_API_KEY\")"
   ]
  },
  {
   "cell_type": "code",
   "execution_count": 19,
   "metadata": {},
   "outputs": [],
   "source": [
    "uploaded_file = \"../machine_learning_resume_speechmatics.pdf\"\n",
    "\n",
    "reader=pdf.PdfReader(uploaded_file)"
   ]
  },
  {
   "cell_type": "code",
   "execution_count": 22,
   "metadata": {},
   "outputs": [],
   "source": [
    "text=\"\"\n",
    "for page in range(len(reader.pages)):\n",
    "    page=reader.pages[page]\n",
    "    text+=str(page.extract_text())"
   ]
  },
  {
   "cell_type": "code",
   "execution_count": 23,
   "metadata": {},
   "outputs": [
    {
     "data": {
      "text/plain": [
       "'Rohan Kumawat\\n+44-7867233460 |kumawatrohan@gmail.com |LinkedIn |Github |Medium |Newsletter\\nAs amachine learning engineer , I am seeking a challenging role where I can bring my passion for Machine Learning and\\nSpeech Recognition to the forefront using my Python, SQL, and Tensor Flow skills.\\nEducation\\nUniversity of Glasgow Glasgow, Scotland\\nMaster’s in Robotics and A.I. Sep. 2022 – May 2024\\nG.D. Goenka University Gurgaon, India\\nBachelor’s of Technology in Computer Science Engineering Aug. 2018 – May 2022\\nExperience\\nWorkshop Mar 2021\\nSpotify Recommendation Engine and API\\n•Led a detailed Spotify Recommendation System workshop, focusing on API integration and filtering techniques.\\n•Demystified API complexities in data analysis for diverse audiences, enhancing comprehension of recommendation\\nsystems.\\n•Facilitated effective knowledge transfer in data science, empowering attendees to implement recommendation\\nengines in varied scenarios.\\nInternship Feb 2020 – Oct 2020\\nLinux World Informatics\\n•Engineered solutions and integrated a variety of technologies such as Docker, RedHat, Python, MLOps, AWS\\nCloud, GCP Cloud, and Flutter during internship, applying them in real-world, industrial projects.\\n•Absorbed a vast array of technologies demonstrating a strong capability for quick learning in high-tech\\nenvironments\\n•Synthesized diverse technologies in project development and honed my approach to solving industrial problems,\\nwhile mastering time management\\nProjects\\nPredicting Central Neuropathic Pain |Python, Pandas Nov 2022 – Dec 2022\\n•Developed an advanced machine learning model to predict Central Neuropathic Pain in patients, utilizing Python\\nand various feature engineering methods (Filter, Wrapper, Embedded) to handle high-dimensional EEG data.\\n•Overcame challenges associated with high-dimensional data and model overfitting by implementing and comparing\\ndifferent feature selection methods, achieving enhanced model accuracy and reliability.\\n•Efficaciously enhanced Logistic Regression and Linear SVM classifiers using feature engineering, showcasing the\\npivotal role of strategic feature selection in predictive model performance.\\nSpotify Songs Data Analysis |Python, Streamlit, Plotly, Spotify API Jan 2022 – Apr 2022\\n•Orchestrated the development of a Python-based web application for visualizing Spotify song and artist data,\\nutilizing the Spotify API for data acquisition and presentation.\\n•Excelled as a full-stack developer, skillfully integrating data analysis, web development, and API utilization to\\ndeliver a highly functional data analysis tool.\\n•Surmounted Spotify API challenges, including data extraction limits and automation hurdles, showcasing resilience\\nand innovative problem-solving abilities.\\nMLops Fashion MNIST |Python, GitHub, RedHat, Jenkins, Keras Apr 2020 – June 2021\\n•Orchestrated the integration of MLOps using Docker and Jenkins to automate the machine learning model\\ndevelopment and deployment process.\\n•Navigated complexities in model training by automating hyperparameter selection and implementing a fail-safe for\\nsuboptimal model performance.\\n•Achieved a significant increase in model accuracy and efficiency, ensuring 95 percent accuracy threshold compliance\\nand enhanced pipeline scalability.\\nTechnical Skills\\nSkill-Set : Python, C++, SQL, NoSQL, Machine Learning, Natural Language Processing\\nDeployment Tools : Git, Github, Docker, Google Cloud Platform, AWS, Linux\\nLibraries : Pandas, NumPy, Matplotlib, Seaborn, Plotly, SKLearn, Streamlit, Keras'"
      ]
     },
     "execution_count": 23,
     "metadata": {},
     "output_type": "execute_result"
    }
   ],
   "source": [
    "text"
   ]
  },
  {
   "cell_type": "code",
   "execution_count": 24,
   "metadata": {},
   "outputs": [],
   "source": [
    "jd = \"\"\"\n",
    "Department \n",
    "\n",
    "Moody’s Analytics Quantum Computing team explores, researches, and implements quantum computing and communications solutions across the different organizational units of the company.\n",
    "\n",
    "Role/Responsibilities\n",
    "\n",
    "This group objective is to evaluate how quantum computing can disrupt our industry and Moody’s products in the market, evaluate the industry maturity, establish partnerships, and position Moody’s as a referent in the quantum computing sector for finance. The team creates proofs of concept and final applications that are embedded in the current classical products. Leverages our state-of-the-art financial models and our extensive datasets across the company and liaises with the different stakeholders for its productization.\n",
    "\n",
    "In this role you will be hands-on and you will evaluate current literature, participate in the research community, and develop solutions in partnership with domain experts across the company. You are expected to have an elevated level of autonomy, capacity to learn new skills and domains including advanced scientific and technical concepts quickly and with minimal direction, along with demonstrated experience in teaching others. We are looking for a person who is passionate about quantum computing and its implications on the financial industry.\n",
    "\n",
    "Strong technical skills and a demonstrated ability to learn new concepts is important for this position. Experience in both quantum computing and software development is essential.\n",
    "\n",
    "Your Role will:\n",
    "\n",
    "» Own and lead the conception and delivery of novel solutions to problems faced by internal project teams.\n",
    "\n",
    "» Develop new and continually improve existing Quantum Algorithms for specific applications, in the team and in collaboration with external partners. Lead and manage the quantum innovation portfolio and pipeline, understanding the internal and external customer and business needs in order to recommend solutions where a quantum or quantum inspired approach may be optimal.\n",
    "\n",
    "» Provide guidance to other groups throughout Moody’s Analytics on best practices and advanced techniques.\n",
    "\n",
    "» Contribute to Moody’s IP by developing innovative solutions and use cases in collaboration with our partners and clients. The goal is to transform scientific research into business value.\n",
    "\n",
    "» Write white papers and build and maintain relationships with the external academic community and business community.\n",
    "\n",
    "» Consistently scan the market / competitors / partners / research, lead client engagements to understand challenges that they are trying to address, and meet with external partners to bring new ideas and technologies to Moody’s Analytics.\n",
    "\n",
    "» Represent the company as a technical expert on quantum computing and present research findings to audiences internally and externally. Demonstrate thought leadership as it relates to QC, and actively seek ways to build MA’s “data and risk expertise” reputation externally (white papers, speaking panels, etc.). Partner with other ML groups inside the company to find hybrid solutions and benchmarks.\n",
    "\n",
    "Additional Requirements:\n",
    "\n",
    "» Performing statistical analysis on financial, climate and other type of data.\n",
    "\n",
    "» Predictive analytics\n",
    "\n",
    "» Conceptual modelling\n",
    "\n",
    "» Creating examples, prototypes, demonstrations\n",
    "\n",
    "» Have the ability to work in a fast-paced, competitive and multidisciplinary environment\n",
    "\n",
    "» Be able to keep up with a landscape where new data/algorithms keeps flowing in rapidly and the world is constantly changing\n",
    "\n",
    "» Ability to work equally well as part of a team and autonomously\n",
    "\n",
    "Qualifications\n",
    "\n",
    "» BSc in Computer Science, Engineering, Physics, Math, or related field.\n",
    "\n",
    "» MSc, PhD in Computer Science, Engineering, Physics, Math, or related field.\n",
    "\n",
    "» Advanced knowledge of Python, scientific computing tools and cloud computing are required.\n",
    "\n",
    "» Previous experience with software best practices, including continuous-integration pipelines, unit testing, code review.\n",
    "\n",
    "» Working knowledge of quantum computing algorithms and applications. Hybrid classical/quantum algorithms are included.\n",
    "\n",
    "» Experience with Machine Learning / AI algorithms.\n",
    "\n",
    "» Demonstrated knowledge and experience with Tensor Network based numerical simulation methods is a plus, with a focus on ML, optimization, function approximation and dimensionality reduction.\n",
    "\n",
    "» Familiarity with Tensor Network libraries and/or relevant functions (ITensor, cuTensorNet, TeNPy, tntorch, scikit-tt or other toolboxes) is a plus.\n",
    "\n",
    "» No prior familiarity with financial use cases required. Experience with financial asset allocation, predictive analytics with financial time series and risk modeling is a plus.\n",
    "\n",
    "» If you have open-source contributions or your own code repositories will be a plus. .\n",
    "\n",
    "» Experience in technical writing in a scientific or technical field. Demonstrated research ability.\n",
    "\n",
    "» Self-motivated with a willingness to learn.\n",
    "\n",
    "» Must be results-oriented and have a proven ability to get things done through people, including those not under direct management.\n",
    "\n",
    "» High level of professionalism.\n",
    "\n",
    "Moody’s is an equal opportunity employer. All qualified applicants will receive consideration for employment without regard to race, color, religion, sex, national origin, disability, protected veteran status, sexual orientation, gender expression, gender identity or any other characteristic protected by law.\n",
    "\n",
    "Candidates for Moody’s Corporation may be asked to disclose securities holdings pursuant to Moody’s Policy for Securities Trading and the requirements of the position. Employment is contingent upon compliance with the Policy, including remediation of positions in those holdings as necessary.\n",
    "\"\"\""
   ]
  },
  {
   "cell_type": "code",
   "execution_count": 25,
   "metadata": {},
   "outputs": [],
   "source": [
    "template=\"\"\"\n",
    "Hey Act Like a skilled or very experience ATS(Application Tracking System)\n",
    "with a deep understanding of tech field,software engineering,data science ,data analyst\n",
    "and big data engineer. Your task is to evaluate the resume based on the given job description.\n",
    "You must consider the job market is very competitive and you should provide \n",
    "best assistance for improving thr resumes. Assign the percentage Matching based \n",
    "on Jd and\n",
    "the missing keywords with high accuracy\n",
    "resume:{text}\n",
    "description:{jd}\n",
    "\n",
    "I want the response in one single string having the structure\n",
    "{{\"JD Match\":\"%\",\"MissingKeywords:[]\",\"Profile Summary\":\"\"}}\n",
    "\"\"\""
   ]
  },
  {
   "cell_type": "code",
   "execution_count": 26,
   "metadata": {},
   "outputs": [],
   "source": [
    "prompt = PromptTemplate.from_template(template)\n",
    "prompt = prompt.partial(jd = jd)\n",
    "chain = prompt | ChatOpenAI(model=\"gpt-4-1106-preview\") | StrOutputParser()"
   ]
  },
  {
   "cell_type": "code",
   "execution_count": 28,
   "metadata": {},
   "outputs": [
    {
     "name": "stdout",
     "output_type": "stream",
     "text": [
      "{\"JD Match\":\"60%\",\"MissingKeywords\":[\"quantum computing\", \"quantum algorithms\", \"financial models\", \"statistical analysis\", \"predictive analytics\", \"conceptual modelling\", \"Tensor Network\", \"ITensor\", \"cuTensorNet\", \"TeNPy\", \"tntorch\", \"scikit-tt\", \"financial asset allocation\", \"financial time series\", \"risk modeling\", \"continuous-integration pipelines\", \"unit testing\", \"code review\", \"technical writing\", \"research ability\"],\"Profile Summary\":\"Rohan Kumawat is a machine learning engineer with a strong background in Python, SQL, and TensorFlow, as well as experience in machine learning, data analysis, and deployment tools. He has a master's in Robotics and A.I. in progress and has completed several relevant projects and an internship with a focus on technologies such as Docker, RedHat, Python, MLOps, AWS Cloud, GCP Cloud, and Flutter. However, his resume lacks direct experience with quantum computing, financial models, and the specific technical skills and experiences listed in the job description.\"}"
     ]
    }
   ],
   "source": [
    "for token in chain.stream({\"text\": text}):\n",
    "    print(token, end=\"\")"
   ]
  },
  {
   "cell_type": "code",
   "execution_count": 29,
   "metadata": {},
   "outputs": [],
   "source": [
    "jd = \"\"\"\n",
    "About You\n",
    "\n",
    "You are an experienced Machine Learning Engineer who can help us advance our automatic speech recognition (ASR) and is excited to build the voice interfaces of the future. We are betting big on scaling models so you will be working with millions of hours of audio and billion parameter models which train across dozens of GPUs. It’s all about finding the bottlenecks across our 30+ languages and targeting our efforts to understand every voice. Our main research focus is large-scale Self-supervised Learning and a practical focus on building state-of-the-art speech pipelines.\n",
    "\n",
    "An average day might include working on\n",
    "\n",
    "Scaling self-supervised learning models across hundreds of GPUs in the cloud \n",
    "Experimenting with distillation or quantisation to speed up our models at runtime \n",
    "Comparing compute efficiencies of architectures such as a transformer and the impact on WER \n",
    "Developing a new product, such as Language ID, from training the model all the way to shipping it to production\n",
    "Advancing end-to-end speech models in PyTorch such as the RNN Transducer\n",
    "Giving a journal club on a recent paper such as DALLE-2 \n",
    "\n",
    "We aim to get you onboarded and started on something like this in your first few days. In addition, having a very collaborative culture, you will often be pair programming with a colleague on streamlining our production ML pipelines, reviewing other folks’ code and suggesting new ways to tackle a tough real time factor (RTF) optimisation problem as well as brainstorming novel approaches for analysing model predictions with the team.\n",
    "\n",
    " You’ll want to join our team if you\n",
    "\n",
    "Want to learn more about speech recognition and representational learning \n",
    "Are results driven, like moving fast and keeping things simple \n",
    "Love working in collaborative and ambitious teams \n",
    "Have a growth mindset and love to develop yourself and others \n",
    "Enjoy solving challenging problems and digging into a stack of unfamiliar code\n",
    "Love optimising code\n",
    "\n",
    "You May Have Experience In Some Of The Following\n",
    "\n",
    "A GitHub portfolio demonstrating personal ML projects \n",
    "Large scale distributed model training\n",
    "Deep learning and Pytorch\n",
    "Language modelling and acoustic modelling\n",
    "Comfortable on the command line and shell scripting\n",
    "ETL pipelines in Python (we like Prefect and Airflow)\n",
    "Speaking multiple languages or a background in linguistics \n",
    "\n",
    "About Us\n",
    "\n",
    "Speechmatics has collaborative office spaces in the UK, with teams also located in the Czech Republic, India and the US. Our speech-to-text software is the world’s most accurate, regularly winning customers from Google, Amazon and Microsoft (learn more in our whitepapers here). We believe we are the UK’s most exciting ML start-up and have grand ambitions for the future of speech tech. Come and join our mission to build perfect speech recognition to understand every voice!\n",
    "\n",
    "What We Can Offer You\n",
    "\n",
    "Speechmatics is a collective team of ambitious, problem solvers and thought-leaders paving the way for inclusion in speech recognition technology 🗣🎙.\n",
    "\n",
    "No matter what stage of your career you're at - from paid internships and first-job opportunities through to management and senior positions - we'll support you with the training and development 🏋️ needed to reach your career aspirations with us. There really is no shortage of opportunities here for you to get involved and collaborate with those around you to deliver your best work 📈.\n",
    "\n",
    "When you become part of the Speechmatics Team we work hard to make sure you do your best work with us 💪, while also having a good time doing it 😆. With our Focus Fridays you get an undisturbed day of focus 🧘‍♀️, offset with Together Tuesdays when we have our team meetings 👫.\n",
    "\n",
    "We offer incredibly flexible working 🤸, regular company lunches, and birthday celebrations🎉. But that's not all. We've spoken to our teams to find out what they want. From Private Medical 🏥 and Dental 🦷 for you and your family, through to global working opportunities 🌎, a generous holiday allowance 🏝 and pension/401K matching 🪺, we want to make sure our employees and their families are looked after. Every employee will receive a working from home allowance for tech or home office equipment (on top of your choice of laptop/ Mac, screen and accessories of course) 🧑‍💻!\n",
    "\n",
    "We support people to work wherever they work best. But we also understand the importance of coming together to collaborate, socialise and build relationships. Individuals and teams are free to decide what works for them.\n",
    "\n",
    "Who We Are\n",
    "\n",
    "Speechmatics is the leading expert in Speech Intelligence, and uses AI and Machine Learning to unlock business value in human speech worldwide 🗣🎙. We work with an amazing mix of global companies 🌎, and our technology can integrate into our customers stack irrespective of their industry or use case – making it the go-to solution to harness useful information from speech. We have recently raised $62 million at Series B and continue to grow positively 🌻.\n",
    "\n",
    "Joining us means working with some of the smartest minds around the world 🤯, focused on cutting-edge projects and deploying the latest techniques to disrupt the market. We believe in putting people first 🥰; we’ll do all we can to help you develop your skills and give you the tools you need to thrive 📈. We support people to work wherever they work best and also understand the importance of coming together to collaborate, socialise and build relationships 🙌.\n",
    "\n",
    "This is only the beginning; we’re looking for amazing people like you to continue our journey… 🚀\n",
    "\n",
    "At Speechmatics, our mission has always been to ‘Understand Every Voice’.\n",
    "\n",
    "We believe that recruiting talent with diverse experiences, perspectives and backgrounds encourages people to think differently and be more creative.\n",
    "\n",
    "We welcome difference whether it’s gender, gender identity or expression, race, disability, age, sexual orientation, religion or belief, marital status, national origin, veteran status, or pregnancy and maternity status; so please be yourself!\n",
    "\n",
    "For more information on us, please visit our website and follow Speechmatics on our social channels via Twitter, Facebook, LinkedIn, and YouTube.\n",
    "\n",
    "We rely on legitimate interest as a legal basis for processing personal information under the GDPR for purposes of recruitment and applications for employment.\n",
    "\"\"\""
   ]
  },
  {
   "cell_type": "code",
   "execution_count": 31,
   "metadata": {},
   "outputs": [],
   "source": [
    "prompt = PromptTemplate.from_template(template)\n",
    "prompt = prompt.partial(jd = jd)\n",
    "chain = prompt | ChatOpenAI(model=\"gpt-4-1106-preview\") | StrOutputParser()"
   ]
  },
  {
   "cell_type": "code",
   "execution_count": 32,
   "metadata": {},
   "outputs": [
    {
     "name": "stdout",
     "output_type": "stream",
     "text": [
      "{\"JD Match\":\"65%\",\"MissingKeywords\":[\"self-supervised learning\", \"scaling models\", \"billions of parameters\", \"dozens of GPUs\", \"30+ languages\", \"transformer architectures\", \"WER (Word Error Rate)\", \"quantisation\", \"RNN Transducer\", \"DALLE-2\", \"pair programming\", \"real-time factor optimization\", \"PyTorch\", \"distributed model training\", \"acoustic modeling\", \"command line proficiency\", \"shell scripting\", \"ETL pipelines\", \"Prefect\", \"Airflow\", \"linguistics\"],\"Profile Summary\":\"Rohan Kumawat is a machine learning engineer with a strong educational background and hands-on experience in Python, SQL, and TensorFlow. His experience includes leading workshops, internships with technology integration, and developing machine learning projects, including a Spotify Recommendation Engine and a predictive model for Central Neuropathic Pain. He demonstrates skills in deploying tools and libraries relevant to machine learning, but lacks experience with specific requirements of the job description, such as self-supervised learning, large-scale model training, and PyTorch, which are critical for the role at Speechmatics.\"}"
     ]
    }
   ],
   "source": [
    "for token in chain.stream({\"text\": text}):\n",
    "    print(token, end=\"\")"
   ]
  },
  {
   "cell_type": "code",
   "execution_count": null,
   "metadata": {},
   "outputs": [],
   "source": []
  },
  {
   "cell_type": "code",
   "execution_count": 37,
   "metadata": {},
   "outputs": [],
   "source": [
    "uploaded_file = \"../machine_learning_resume.pdf\"\n",
    "\n",
    "reader=pdf.PdfReader(uploaded_file)"
   ]
  },
  {
   "cell_type": "code",
   "execution_count": 38,
   "metadata": {},
   "outputs": [],
   "source": [
    "text=\"\"\n",
    "for page in range(len(reader.pages)):\n",
    "    page=reader.pages[page]\n",
    "    text+=str(page.extract_text())"
   ]
  },
  {
   "cell_type": "code",
   "execution_count": 39,
   "metadata": {},
   "outputs": [],
   "source": [
    "jd = \"\"\"\n",
    "Responsibilities\n",
    "TikTok is the leading destination for short-form mobile video. Our mission is to inspire creativity and bring joy. TikTok has global offices including Los Angeles, New York, London, Paris, Berlin, Dubai, Singapore, Jakarta, Seoul and Tokyo. \n",
    "\n",
    "Why Join Us \n",
    "At TikTok, our people are humble, intelligent, compassionate and creative. We create to inspire - for you, for us, and for more than 1 billion users on our platform. We lead with curiosity and aim for the highest, never shying away from taking calculated risks and embracing ambiguity as it comes. Here, the opportunities are limitless for those who dare to pursue bold ideas that exist just beyond the boundary of possibility. Join us and make impact happen with a career at TikTok. \n",
    "\n",
    "Regardless of the function you choose to specialise in, our graduate roles will enable you to participate in meaningful and innovative projects. Your potential for growth at TikTok is limitless. Join us to enhance your skill set and develop your network in the tech industry. \n",
    "\n",
    "This role sits within our TikTok recommendation team. The team is responsible for developing state-of-the-art machine learning models and strategies to improve user consumption experience, inspire creativity and build a fair and flourishing ecosystem. \n",
    "\n",
    "Within this role, you will: - Build industry-leading recommendation systems, improving user experience, content ecosystem and platform security - Develop state-of-the-art machine learning models to solve problems at TikTok scale - Systematically develop product strategy with strong analytical and impact-driven mindset - Work with TikTok cross functional teams to grow TikTok in important regional markets\n",
    "\n",
    "Qualifications\n",
    "\n",
    "- Currently enrolled in a Bachelors or Masters degree, graduating in 2024\n",
    "- Studying computer science, engineering or a related technical discipline\n",
    "- Interest in at least one of the following areas: machine learning, data mining, algorithms\n",
    "- Great communication and teamwork skills\n",
    "- Passionate about techniques and solving challenging problems\n",
    "- The start date for the program will be September 2024\n",
    "- Must obtain work authorization in country of employment at the time of hire, and maintain ongoing work authorization during employment \n",
    " \n",
    "TikTok is committed to creating an inclusive space where employees are valued for their skills, experiences, and unique perspectives. Our platform connects people from across the globe and so does our workplace. At TikTok, our mission is to inspire creativity and bring joy. To achieve that goal, we are committed to celebrating our diverse voices and to creating an environment that reflects the many communities we reach. We are passionate about this and hope you are too.\n",
    "\"\"\""
   ]
  },
  {
   "cell_type": "code",
   "execution_count": 40,
   "metadata": {},
   "outputs": [],
   "source": [
    "prompt = PromptTemplate.from_template(template)\n",
    "prompt = prompt.partial(jd = jd)\n",
    "chain = prompt | ChatOpenAI(model=\"gpt-4-1106-preview\") | StrOutputParser()"
   ]
  },
  {
   "cell_type": "code",
   "execution_count": 41,
   "metadata": {},
   "outputs": [
    {
     "name": "stdout",
     "output_type": "stream",
     "text": [
      "{\"JD Match\":\"60%\",\"MissingKeywords\":[\"data mining\", \"algorithms\", \"cross-functional teamwork\", \"product strategy\", \"regional markets\", \"platform security\", \"content ecosystem\", \"work authorization\"],\"Profile Summary\":\"Rohan Kumawat's resume demonstrates a strong background in machine learning, recommendation systems, and software development with practical experience in workshops, internships, and projects. His technical skill set is substantial, covering Python, SQL, machine learning libraries, and deployment tools such as Docker and cloud platforms. However, there are gaps in his resume concerning the specific qualifications and responsibilities mentioned in the job description. Notably, there is no mention of data mining, algorithms, cross-functional teamwork, product strategy, understanding of regional markets, platform security, content ecosystem, or work authorization. To improve the resume's match with the job description, Rohan should emphasize any experience in these areas and ensure that his work authorization status is clear. Additionally, highlighting any projects or experiences that demonstrate an ability to work with cross-functional teams and develop product strategies would be beneficial.\"}"
     ]
    }
   ],
   "source": [
    "for token in chain.stream({\"text\": text}):\n",
    "    print(token, end=\"\")"
   ]
  },
  {
   "cell_type": "code",
   "execution_count": null,
   "metadata": {},
   "outputs": [],
   "source": []
  }
 ],
 "metadata": {
  "kernelspec": {
   "display_name": "atsResume",
   "language": "python",
   "name": "python3"
  },
  "language_info": {
   "codemirror_mode": {
    "name": "ipython",
    "version": 3
   },
   "file_extension": ".py",
   "mimetype": "text/x-python",
   "name": "python",
   "nbconvert_exporter": "python",
   "pygments_lexer": "ipython3",
   "version": "3.12.1"
  }
 },
 "nbformat": 4,
 "nbformat_minor": 2
}
